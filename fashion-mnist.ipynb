{
 "cells": [
  {
   "cell_type": "code",
   "execution_count": 1,
   "metadata": {
    "_cell_guid": "79c7e3d0-c299-4dcb-8224-4455121ee9b0",
    "_uuid": "d629ff2d2480ee46fbb7e2d37f6b5fab8052498a"
   },
   "outputs": [],
   "source": [
    "import pandas as pd\n",
    "import numpy as np\n",
    "import matplotlib.pyplot as plt\n",
    "import seaborn as sns\n",
    "import random\n",
    "import tensorflow as tf\n",
    "from tensorflow.keras.models import Sequential\n",
    "from tensorflow.keras.layers import Activation, Dense , Dropout, Conv2D , MaxPool2D , Flatten\n",
    "from tensorflow.keras.optimizers import Adam\n",
    "from tensorflow.keras.callbacks import EarlyStopping\n",
    "from sklearn.metrics import confusion_matrix, classification_report"
   ]
  },
  {
   "cell_type": "code",
   "execution_count": 2,
   "metadata": {},
   "outputs": [],
   "source": [
    "train = pd.read_csv('../input/fashionmnist/fashion-mnist_train.csv')\n",
    "test = pd.read_csv('../input/fashionmnist/fashion-mnist_test.csv')"
   ]
  },
  {
   "cell_type": "code",
   "execution_count": 3,
   "metadata": {},
   "outputs": [
    {
     "data": {
      "text/plain": [
       "0"
      ]
     },
     "execution_count": 3,
     "metadata": {},
     "output_type": "execute_result"
    }
   ],
   "source": [
    "train.isnull().sum().sum()"
   ]
  },
  {
   "cell_type": "code",
   "execution_count": 4,
   "metadata": {},
   "outputs": [
    {
     "name": "stdout",
     "output_type": "stream",
     "text": [
      "<class 'pandas.core.frame.DataFrame'>\n",
      "RangeIndex: 60000 entries, 0 to 59999\n",
      "Columns: 785 entries, label to pixel784\n",
      "dtypes: int64(785)\n",
      "memory usage: 359.3 MB\n"
     ]
    }
   ],
   "source": [
    "train.info()"
   ]
  },
  {
   "cell_type": "code",
   "execution_count": 5,
   "metadata": {},
   "outputs": [
    {
     "data": {
      "text/plain": [
       "Index(['label', 'pixel1', 'pixel2', 'pixel3', 'pixel4', 'pixel5', 'pixel6',\n",
       "       'pixel7', 'pixel8', 'pixel9',\n",
       "       ...\n",
       "       'pixel775', 'pixel776', 'pixel777', 'pixel778', 'pixel779', 'pixel780',\n",
       "       'pixel781', 'pixel782', 'pixel783', 'pixel784'],\n",
       "      dtype='object', length=785)"
      ]
     },
     "execution_count": 5,
     "metadata": {},
     "output_type": "execute_result"
    }
   ],
   "source": [
    "train.columns"
   ]
  },
  {
   "cell_type": "code",
   "execution_count": 6,
   "metadata": {},
   "outputs": [],
   "source": [
    "X_train = train.drop('label' , axis = 1).values\n",
    "y_train = train['label'].values\n",
    "X_test = test.drop('label' , axis = 1).values\n",
    "y_test = test['label'].values"
   ]
  },
  {
   "cell_type": "code",
   "execution_count": 7,
   "metadata": {},
   "outputs": [],
   "source": [
    "X_train = X_train/255.0\n",
    "X_test = X_test/255.0"
   ]
  },
  {
   "cell_type": "code",
   "execution_count": 8,
   "metadata": {},
   "outputs": [],
   "source": [
    "X_train = X_train.reshape(-1,28,28,1)\n",
    "X_test= X_test.reshape(-1,28,28,1)"
   ]
  },
  {
   "cell_type": "code",
   "execution_count": 9,
   "metadata": {},
   "outputs": [],
   "source": [
    "label_meaning  = {0: 'T-shirt/top',\n",
    "1: 'Trouser',\n",
    "2: 'Pullover',\n",
    "3: 'Dress',\n",
    "4: 'Coat',\n",
    "5: 'Sandal',\n",
    "6: 'Shirt',\n",
    "7: 'Sneaker',\n",
    "8: 'Bag',\n",
    "9: 'Ankle boot'}"
   ]
  },
  {
   "cell_type": "code",
   "execution_count": 10,
   "metadata": {},
   "outputs": [
    {
     "name": "stdout",
     "output_type": "stream",
     "text": [
      "Pullover\n"
     ]
    },
    {
     "data": {
      "image/png": "[encoded data removed]",
      "text/plain": [
       "<Figure size 432x288 with 1 Axes>"
      ]
     },
     "metadata": {
      "needs_background": "light"
     },
     "output_type": "display_data"
    }
   ],
   "source": [
    "ran_in = random.randint(0,59999)\n",
    "plt.imshow(X_train[ran_in].reshape(28,28))\n",
    "print(label_meaning[y_train[ran_in]])"
   ]
  },
  {
   "cell_type": "code",
   "execution_count": 11,
   "metadata": {},
   "outputs": [],
   "source": [
    "optimizers = Adam(learning_rate=0.001,\n",
    "                 beta_1 = 0.9,\n",
    "                 beta_2=0.999,\n",
    "                 epsilon=1e-07,\n",
    "                 amsgrad = False,\n",
    "                 name = 'Adam')"
   ]
  },
  {
   "cell_type": "code",
   "execution_count": 12,
   "metadata": {},
   "outputs": [],
   "source": [
    "model = Sequential()\n",
    "\n",
    "model.add(Conv2D(filters = 32, kernel_size = (5,5),padding = 'Same', \n",
    "                 activation ='relu', input_shape = (28,28,1)))\n",
    "model.add(Conv2D(filters = 32, kernel_size = (5,5),padding = 'Same', \n",
    "                 activation ='relu'))\n",
    "model.add(MaxPool2D(pool_size=(2,2)))\n",
    "model.add(Dropout(0.25))\n",
    "\n",
    "\n",
    "model.add(Conv2D(filters = 64, kernel_size = (3,3),padding = 'Same', \n",
    "                 activation ='relu'))\n",
    "model.add(Conv2D(filters = 64, kernel_size = (3,3),padding = 'Same', \n",
    "                 activation ='relu'))\n",
    "model.add(MaxPool2D(pool_size=(2,2), strides=(2,2)))\n",
    "model.add(Dropout(0.25))\n",
    "\n",
    "\n",
    "model.add(Flatten())\n",
    "model.add(Dense(256, activation = \"relu\"))\n",
    "model.add(Dropout(0.5))\n",
    "model.add(Dense(10, activation = \"softmax\"))"
   ]
  },
  {
   "cell_type": "code",
   "execution_count": 13,
   "metadata": {},
   "outputs": [],
   "source": [
    "model.compile(optimizers , loss = 'sparse_categorical_crossentropy')"
   ]
  },
  {
   "cell_type": "code",
   "execution_count": 14,
   "metadata": {},
   "outputs": [],
   "source": [
    "early_stop = EarlyStopping(monitor = 'val_loss', patience = 5, mode = 'min')"
   ]
  },
  {
   "cell_type": "code",
   "execution_count": 15,
   "metadata": {},
   "outputs": [
    {
     "name": "stdout",
     "output_type": "stream",
     "text": [
      "Train on 60000 samples, validate on 10000 samples\n",
      "Epoch 1/30\n",
      "60000/60000 [==============================] - 10s 165us/sample - loss: 0.5068 - val_loss: 0.3190\n",
      "Epoch 2/30\n",
      "60000/60000 [==============================] - 5s 90us/sample - loss: 0.3231 - val_loss: 0.2627\n",
      "Epoch 3/30\n",
      "60000/60000 [==============================] - 5s 89us/sample - loss: 0.2796 - val_loss: 0.2353\n",
      "Epoch 4/30\n",
      "60000/60000 [==============================] - 5s 90us/sample - loss: 0.2546 - val_loss: 0.2190\n",
      "Epoch 5/30\n",
      "60000/60000 [==============================] - 5s 89us/sample - loss: 0.2364 - val_loss: 0.1965\n",
      "Epoch 6/30\n",
      "60000/60000 [==============================] - 5s 90us/sample - loss: 0.2224 - val_loss: 0.1974\n",
      "Epoch 7/30\n",
      "60000/60000 [==============================] - 5s 88us/sample - loss: 0.2106 - val_loss: 0.1953\n",
      "Epoch 8/30\n",
      "60000/60000 [==============================] - 5s 91us/sample - loss: 0.1986 - val_loss: 0.1886\n",
      "Epoch 9/30\n",
      "60000/60000 [==============================] - 5s 88us/sample - loss: 0.1912 - val_loss: 0.1833\n",
      "Epoch 10/30\n",
      "60000/60000 [==============================] - 5s 90us/sample - loss: 0.1811 - val_loss: 0.1821\n",
      "Epoch 11/30\n",
      "60000/60000 [==============================] - 6s 98us/sample - loss: 0.1741 - val_loss: 0.1917\n",
      "Epoch 12/30\n",
      "60000/60000 [==============================] - 6s 95us/sample - loss: 0.1651 - val_loss: 0.1851\n",
      "Epoch 13/30\n",
      "60000/60000 [==============================] - 5s 88us/sample - loss: 0.1605 - val_loss: 0.1908\n",
      "Epoch 14/30\n",
      "60000/60000 [==============================] - 5s 90us/sample - loss: 0.1551 - val_loss: 0.1833\n",
      "Epoch 15/30\n",
      "60000/60000 [==============================] - 5s 88us/sample - loss: 0.1518 - val_loss: 0.1784\n",
      "Epoch 16/30\n",
      "60000/60000 [==============================] - 5s 89us/sample - loss: 0.1457 - val_loss: 0.1880\n",
      "Epoch 17/30\n",
      "60000/60000 [==============================] - 5s 89us/sample - loss: 0.1406 - val_loss: 0.1748\n",
      "Epoch 18/30\n",
      "60000/60000 [==============================] - 5s 91us/sample - loss: 0.1413 - val_loss: 0.1851\n",
      "Epoch 19/30\n",
      "60000/60000 [==============================] - 5s 88us/sample - loss: 0.1378 - val_loss: 0.1887\n",
      "Epoch 20/30\n",
      "60000/60000 [==============================] - 5s 89us/sample - loss: 0.1338 - val_loss: 0.1804\n",
      "Epoch 21/30\n",
      "60000/60000 [==============================] - 5s 89us/sample - loss: 0.1300 - val_loss: 0.1807\n",
      "Epoch 22/30\n",
      "60000/60000 [==============================] - 6s 95us/sample - loss: 0.1252 - val_loss: 0.1793\n"
     ]
    },
    {
     "data": {
      "text/plain": [
       "<tensorflow.python.keras.callbacks.History at 0x7f3406e2eb10>"
      ]
     },
     "execution_count": 15,
     "metadata": {},
     "output_type": "execute_result"
    }
   ],
   "source": [
    "model.fit(x = X_train,y = y_train,\n",
    "         epochs = 30,\n",
    "         validation_data = (X_test , y_test),\n",
    "         callbacks = [early_stop],\n",
    "         batch_size = 64)"
   ]
  },
  {
   "cell_type": "code",
   "execution_count": 16,
   "metadata": {},
   "outputs": [],
   "source": [
    "loss = pd.DataFrame(model.history.history)"
   ]
  },
  {
   "cell_type": "code",
   "execution_count": 17,
   "metadata": {},
   "outputs": [
    {
     "data": {
      "text/plain": [
       "<matplotlib.axes._subplots.AxesSubplot at 0x7f33dc127b50>"
      ]
     },
     "execution_count": 17,
     "metadata": {},
     "output_type": "execute_result"
    },
    {
     "data": {
      "image/png": "[encoded data removed]",
      "text/plain": [
       "<Figure size 432x288 with 1 Axes>"
      ]
     },
     "metadata": {
      "needs_background": "light"
     },
     "output_type": "display_data"
    }
   ],
   "source": [
    "loss.plot()"
   ]
  },
  {
   "cell_type": "code",
   "execution_count": 21,
   "metadata": {},
   "outputs": [
    {
     "data": {
      "text/plain": [
       "'/kaggle/working'"
      ]
     },
     "execution_count": 21,
     "metadata": {},
     "output_type": "execute_result"
    }
   ],
   "source": [
    "pwd"
   ]
  },
  {
   "cell_type": "code",
   "execution_count": 20,
   "metadata": {},
   "outputs": [],
   "source": [
    "model.save('Fashion_mnist_model.h5')"
   ]
  },
  {
   "cell_type": "code",
   "execution_count": 22,
   "metadata": {},
   "outputs": [],
   "source": [
    "prediction =model.predict_classes(X_test)"
   ]
  },
  {
   "cell_type": "code",
   "execution_count": 23,
   "metadata": {},
   "outputs": [
    {
     "name": "stdout",
     "output_type": "stream",
     "text": [
      "[[872   0  17   6   2   0 101   0   2   0]\n",
      " [  0 996   0   1   0   0   2   0   1   0]\n",
      " [ 10   0 912   6  37   0  35   0   0   0]\n",
      " [ 12   5   6 940  25   0  12   0   0   0]\n",
      " [  0   0  20   9 931   0  40   0   0   0]\n",
      " [  0   0   0   0   0 991   0   7   1   1]\n",
      " [ 69   0  37  22  40   0 831   0   1   0]\n",
      " [  0   0   0   0   0   3   0 987   0  10]\n",
      " [  0   0   0   1   0   0   8   0 990   1]\n",
      " [  0   0   0   0   0   4   0  30   0 966]]\n",
      "              precision    recall  f1-score   support\n",
      "\n",
      "           0       0.91      0.87      0.89      1000\n",
      "           1       1.00      1.00      1.00      1000\n",
      "           2       0.92      0.91      0.92      1000\n",
      "           3       0.95      0.94      0.95      1000\n",
      "           4       0.90      0.93      0.91      1000\n",
      "           5       0.99      0.99      0.99      1000\n",
      "           6       0.81      0.83      0.82      1000\n",
      "           7       0.96      0.99      0.98      1000\n",
      "           8       0.99      0.99      0.99      1000\n",
      "           9       0.99      0.97      0.98      1000\n",
      "\n",
      "    accuracy                           0.94     10000\n",
      "   macro avg       0.94      0.94      0.94     10000\n",
      "weighted avg       0.94      0.94      0.94     10000\n",
      "\n"
     ]
    }
   ],
   "source": [
    "print(confusion_matrix(y_test , prediction))\n",
    "print(classification_report(y_test , prediction))"
   ]
  },
  {
   "cell_type": "code",
   "execution_count": null,
   "metadata": {},
   "outputs": [],
   "source": []
  }
 ],
 "metadata": {
  "kernelspec": {
   "display_name": "Python 3",
   "language": "python",
   "name": "python3"
  },
  "language_info": {
   "codemirror_mode": {
    "name": "ipython",
    "version": 3
   },
   "file_extension": ".py",
   "mimetype": "text/x-python",
   "name": "python",
   "nbconvert_exporter": "python",
   "pygments_lexer": "ipython3",
   "version": "3.7.7"
  }
 },
 "nbformat": 4,
 "nbformat_minor": 4
}
